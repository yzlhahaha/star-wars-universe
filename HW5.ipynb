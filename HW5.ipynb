{
 "cells": [
  {
   "cell_type": "code",
   "execution_count": 1,
   "metadata": {},
   "outputs": [],
   "source": [
    "import requests\n",
    "import os\n",
    "import pandas as pd"
   ]
  },
  {
   "cell_type": "code",
   "execution_count": 2,
   "metadata": {},
   "outputs": [],
   "source": [
    "base_url = 'https://swapi.dev/api/'"
   ]
  },
  {
   "cell_type": "code",
   "execution_count": 3,
   "metadata": {},
   "outputs": [],
   "source": [
    "tmp = requests.get(os.path.join(base_url, 'people')).json()"
   ]
  },
  {
   "cell_type": "code",
   "execution_count": 4,
   "metadata": {},
   "outputs": [],
   "source": [
    "people = []\n",
    "for i in range(1, 11):\n",
    "    people.append(requests.get(os.path.join(base_url, 'people/{}'.format(i))).json())"
   ]
  },
  {
   "cell_type": "code",
   "execution_count": 5,
   "metadata": {},
   "outputs": [],
   "source": [
    "def get_nested(d):\n",
    "    urls = d['films']\n",
    "    films = [requests.get(url).json() for url in urls]\n",
    "    d['films']  = films\n",
    "    return d\n",
    "def get_titles(d):\n",
    "    d['films'] = [d['films'][i]['title'] for i in range(len(d['films']))]\n",
    "    return d\n",
    "def get_birth_num(d):\n",
    "    try:\n",
    "        d['birth_year'] = float(d['birth_year'].replace(\"BBY\", \"\"))\n",
    "    except:\n",
    "        d['birth_year'] = d['birth_year']\n",
    "    return d"
   ]
  },
  {
   "cell_type": "code",
   "execution_count": 6,
   "metadata": {},
   "outputs": [],
   "source": [
    "def convert_str(x):\n",
    "    try:\n",
    "        return int(x)\n",
    "    except:\n",
    "        return x\n",
    "\n",
    "def to_num(data):\n",
    "    for key in data:\n",
    "        val = data[key]\n",
    "        if isinstance(val, str):\n",
    "            data[key] = convert_str(val)\n",
    "        elif isinstance(val, dict):\n",
    "            for k, v in val.items():\n",
    "                if isinstance(v, str):\n",
    "                    val[k] = convert_str(v)\n",
    "        elif isinstance(val, list):\n",
    "            for i, item in enumerate(val):\n",
    "                if isinstance(item, str):\n",
    "                    data[key][i] = convert_str(item)\n",
    "                elif isinstance(item, dict):\n",
    "                    for k, v in item.items():\n",
    "                        if isinstance(v, str):\n",
    "                            data[key][i][k] = convert_str(v)      \n",
    "    return data"
   ]
  },
  {
   "cell_type": "code",
   "execution_count": 7,
   "metadata": {},
   "outputs": [],
   "source": [
    "people_f = [to_num(get_birth_num(get_titles(get_nested(people[i])))) for i in range(len(people))]"
   ]
  },
  {
   "cell_type": "code",
   "execution_count": 8,
   "metadata": {},
   "outputs": [],
   "source": [
    "df = pd.DataFrame(people_f).filter(['name', 'birth_year', 'films'])"
   ]
  },
  {
   "cell_type": "code",
   "execution_count": 9,
   "metadata": {},
   "outputs": [],
   "source": [
    "df.columns = ['name', 'birth_year (BBY)', 'films']"
   ]
  },
  {
   "cell_type": "code",
   "execution_count": 12,
   "metadata": {},
   "outputs": [
    {
     "data": {
      "text/html": [
       "<div>\n",
       "<style scoped>\n",
       "    .dataframe tbody tr th:only-of-type {\n",
       "        vertical-align: middle;\n",
       "    }\n",
       "\n",
       "    .dataframe tbody tr th {\n",
       "        vertical-align: top;\n",
       "    }\n",
       "\n",
       "    .dataframe thead th {\n",
       "        text-align: right;\n",
       "    }\n",
       "</style>\n",
       "<table border=\"1\" class=\"dataframe\">\n",
       "  <thead>\n",
       "    <tr style=\"text-align: right;\">\n",
       "      <th></th>\n",
       "      <th>birth_year (BBY)</th>\n",
       "    </tr>\n",
       "    <tr>\n",
       "      <th>name</th>\n",
       "      <th></th>\n",
       "    </tr>\n",
       "  </thead>\n",
       "  <tbody>\n",
       "    <tr>\n",
       "      <th>Leia Organa</th>\n",
       "      <td>19.0</td>\n",
       "    </tr>\n",
       "  </tbody>\n",
       "</table>\n",
       "</div>"
      ],
      "text/plain": [
       "             birth_year (BBY)\n",
       "name                         \n",
       "Leia Organa              19.0"
      ]
     },
     "execution_count": 12,
     "metadata": {},
     "output_type": "execute_result"
    }
   ],
   "source": [
    "(\n",
    "    df[df['name']!='R5-D4'].\n",
    "    groupby('name').\n",
    "    sum().\n",
    "    sort_values('birth_year (BBY)').\n",
    "    filter(['name', 'birth_year (BBY)']).\n",
    "    head(1)\n",
    ")"
   ]
  },
  {
   "cell_type": "code",
   "execution_count": 13,
   "metadata": {},
   "outputs": [
    {
     "data": {
      "text/html": [
       "<div>\n",
       "<style scoped>\n",
       "    .dataframe tbody tr th:only-of-type {\n",
       "        vertical-align: middle;\n",
       "    }\n",
       "\n",
       "    .dataframe tbody tr th {\n",
       "        vertical-align: top;\n",
       "    }\n",
       "\n",
       "    .dataframe thead th {\n",
       "        text-align: right;\n",
       "    }\n",
       "</style>\n",
       "<table border=\"1\" class=\"dataframe\">\n",
       "  <thead>\n",
       "    <tr style=\"text-align: right;\">\n",
       "      <th></th>\n",
       "      <th>films</th>\n",
       "    </tr>\n",
       "    <tr>\n",
       "      <th>name</th>\n",
       "      <th></th>\n",
       "    </tr>\n",
       "  </thead>\n",
       "  <tbody>\n",
       "    <tr>\n",
       "      <th>Beru Whitesun lars</th>\n",
       "      <td>[A New Hope, Attack of the Clones, Revenge of ...</td>\n",
       "    </tr>\n",
       "    <tr>\n",
       "      <th>Biggs Darklighter</th>\n",
       "      <td>[A New Hope]</td>\n",
       "    </tr>\n",
       "    <tr>\n",
       "      <th>C-3PO</th>\n",
       "      <td>[A New Hope, The Empire Strikes Back, Return o...</td>\n",
       "    </tr>\n",
       "    <tr>\n",
       "      <th>Darth Vader</th>\n",
       "      <td>[A New Hope, The Empire Strikes Back, Return o...</td>\n",
       "    </tr>\n",
       "    <tr>\n",
       "      <th>Leia Organa</th>\n",
       "      <td>[A New Hope, The Empire Strikes Back, Return o...</td>\n",
       "    </tr>\n",
       "    <tr>\n",
       "      <th>Luke Skywalker</th>\n",
       "      <td>[A New Hope, The Empire Strikes Back, Return o...</td>\n",
       "    </tr>\n",
       "    <tr>\n",
       "      <th>Obi-Wan Kenobi</th>\n",
       "      <td>[A New Hope, The Empire Strikes Back, Return o...</td>\n",
       "    </tr>\n",
       "    <tr>\n",
       "      <th>Owen Lars</th>\n",
       "      <td>[A New Hope, Attack of the Clones, Revenge of ...</td>\n",
       "    </tr>\n",
       "    <tr>\n",
       "      <th>R2-D2</th>\n",
       "      <td>[A New Hope, The Empire Strikes Back, Return o...</td>\n",
       "    </tr>\n",
       "    <tr>\n",
       "      <th>R5-D4</th>\n",
       "      <td>[A New Hope]</td>\n",
       "    </tr>\n",
       "  </tbody>\n",
       "</table>\n",
       "</div>"
      ],
      "text/plain": [
       "                                                                films\n",
       "name                                                                 \n",
       "Beru Whitesun lars  [A New Hope, Attack of the Clones, Revenge of ...\n",
       "Biggs Darklighter                                        [A New Hope]\n",
       "C-3PO               [A New Hope, The Empire Strikes Back, Return o...\n",
       "Darth Vader         [A New Hope, The Empire Strikes Back, Return o...\n",
       "Leia Organa         [A New Hope, The Empire Strikes Back, Return o...\n",
       "Luke Skywalker      [A New Hope, The Empire Strikes Back, Return o...\n",
       "Obi-Wan Kenobi      [A New Hope, The Empire Strikes Back, Return o...\n",
       "Owen Lars           [A New Hope, Attack of the Clones, Revenge of ...\n",
       "R2-D2               [A New Hope, The Empire Strikes Back, Return o...\n",
       "R5-D4                                                    [A New Hope]"
      ]
     },
     "execution_count": 13,
     "metadata": {},
     "output_type": "execute_result"
    }
   ],
   "source": [
    "(\n",
    "    df.\n",
    "    groupby('name').\n",
    "    sum().\n",
    "    filter(['name', 'films'])\n",
    ")"
   ]
  },
  {
   "cell_type": "code",
   "execution_count": null,
   "metadata": {},
   "outputs": [],
   "source": []
  },
  {
   "cell_type": "code",
   "execution_count": null,
   "metadata": {},
   "outputs": [],
   "source": []
  }
 ],
 "metadata": {
  "kernelspec": {
   "display_name": "Python 3",
   "language": "python",
   "name": "python3"
  },
  "language_info": {
   "codemirror_mode": {
    "name": "ipython",
    "version": 3
   },
   "file_extension": ".py",
   "mimetype": "text/x-python",
   "name": "python",
   "nbconvert_exporter": "python",
   "pygments_lexer": "ipython3",
   "version": "3.7.6"
  }
 },
 "nbformat": 4,
 "nbformat_minor": 2
}
